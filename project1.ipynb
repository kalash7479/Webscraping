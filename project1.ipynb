{
 "cells": [
  {
   "cell_type": "code",
   "execution_count": 35,
   "id": "89352a80-9118-4f5c-bade-910c12eb6eef",
   "metadata": {},
   "outputs": [],
   "source": [
    "import pandas as pd \n",
    "import datetime\n",
    "import yfinance as yf\n",
    "import seaborn as sb\n",
    "import matplotlib.pyplot as plt"
   ]
  },
  {
   "cell_type": "code",
   "execution_count": 2,
   "id": "5d44c13a-c562-4ca5-9fd9-47a3f58b4fff",
   "metadata": {},
   "outputs": [],
   "source": [
    "s = datetime.datetime(2023,1,1)\n",
    "e = datetime.datetime(2025,3,24)"
   ]
  },
  {
   "cell_type": "code",
   "execution_count": 3,
   "id": "02abe1e3-6cef-4112-8ec8-4235d2a15788",
   "metadata": {},
   "outputs": [
    {
     "name": "stdout",
     "output_type": "stream",
     "text": [
      "YF.download() has changed argument auto_adjust default to True\n"
     ]
    },
    {
     "name": "stderr",
     "output_type": "stream",
     "text": [
      "[*********************100%***********************]  1 of 1 completed\n"
     ]
    }
   ],
   "source": [
    "apple = yf.download('AAPL',start = s , end = e)\n",
    "apple.columns = apple.columns.get_level_values(0)\n",
    "apple  = apple.reset_index()\n",
    "apple['Stock']= 'APPLE'"
   ]
  },
  {
   "cell_type": "code",
   "execution_count": 4,
   "id": "c001c74b-f88d-41c8-9ec3-d7f47a3f8cfd",
   "metadata": {},
   "outputs": [
    {
     "name": "stderr",
     "output_type": "stream",
     "text": [
      "[*********************100%***********************]  1 of 1 completed\n"
     ]
    }
   ],
   "source": [
    "nvidia = yf.download('NVDA',start = s , end = e)\n",
    "nvidia.columns = nvidia.columns.get_level_values(0)\n",
    "nvidia  = nvidia.reset_index()\n",
    "nvidia['Stock']= 'NVIDIA'"
   ]
  },
  {
   "cell_type": "code",
   "execution_count": 5,
   "id": "3c6e4cde-f001-45a3-9c0f-07a09b16a21a",
   "metadata": {},
   "outputs": [
    {
     "name": "stderr",
     "output_type": "stream",
     "text": [
      "[*********************100%***********************]  1 of 1 completed\n"
     ]
    }
   ],
   "source": [
    "microsoft = yf.download('MSFT',start = s , end = e)\n",
    "microsoft.columns = microsoft.columns.get_level_values(0)\n",
    "microsoft  = microsoft.reset_index()\n",
    "microsoft['Stock']= 'MICROSOFT'"
   ]
  },
  {
   "cell_type": "code",
   "execution_count": 6,
   "id": "fe8b0dbd-4bbc-4b46-825f-fbdb5f2fd2f7",
   "metadata": {},
   "outputs": [
    {
     "name": "stderr",
     "output_type": "stream",
     "text": [
      "[*********************100%***********************]  1 of 1 completed\n"
     ]
    }
   ],
   "source": [
    "amazon = yf.download('AMZN',start = s , end = e)\n",
    "amazon.columns = amazon.columns.get_level_values(0)\n",
    "amazon  = amazon.reset_index()\n",
    "amazon['Stock']= 'AMAZON'"
   ]
  },
  {
   "cell_type": "code",
   "execution_count": 7,
   "id": "cae9ff8d-c89f-4dd3-80b0-3e217bff92fa",
   "metadata": {},
   "outputs": [
    {
     "name": "stderr",
     "output_type": "stream",
     "text": [
      "[*********************100%***********************]  1 of 1 completed\n"
     ]
    }
   ],
   "source": [
    "meta = yf.download('META',start = s , end = e)\n",
    "meta.columns = meta.columns.get_level_values(0)\n",
    "meta  = meta.reset_index()\n",
    "meta['Stock']= 'META'"
   ]
  },
  {
   "cell_type": "code",
   "execution_count": 8,
   "id": "436282b1-2523-4869-b8ef-9f5e2157710a",
   "metadata": {},
   "outputs": [
    {
     "name": "stderr",
     "output_type": "stream",
     "text": [
      "[*********************100%***********************]  1 of 1 completed\n"
     ]
    }
   ],
   "source": [
    "tesla = yf.download('TSLA',start = s , end = e)\n",
    "tesla.columns = tesla.columns.get_level_values(0)\n",
    "tesla  = apple.reset_index()\n",
    "tesla['Stock']= 'TESLA'"
   ]
  },
  {
   "cell_type": "code",
   "execution_count": 11,
   "id": "1d735d54-6692-4d77-a3b1-6b3b6c6b342d",
   "metadata": {},
   "outputs": [
    {
     "name": "stderr",
     "output_type": "stream",
     "text": [
      "[*********************100%***********************]  1 of 1 completed\n"
     ]
    }
   ],
   "source": [
    "visa = yf.download('V',start = s , end = e)\n",
    "visa.columns = visa.columns.get_level_values(0)\n",
    "visa  = visa.reset_index()\n",
    "visa['Stock']= 'VISA'"
   ]
  },
  {
   "cell_type": "code",
   "execution_count": 12,
   "id": "0a3dc631-bad0-4129-959e-7f1c7a3b0975",
   "metadata": {},
   "outputs": [
    {
     "name": "stderr",
     "output_type": "stream",
     "text": [
      "[*********************100%***********************]  1 of 1 completed\n"
     ]
    }
   ],
   "source": [
    "walmart = yf.download('AAPL',start = s , end = e)\n",
    "walmart.columns = walmart.columns.get_level_values(0)\n",
    "walmart  = walmart.reset_index()\n",
    "walmart['Stock']= 'WALMART'"
   ]
  },
  {
   "cell_type": "code",
   "execution_count": 13,
   "id": "309ba374-84b2-4b3a-a939-c4d9918c827e",
   "metadata": {},
   "outputs": [
    {
     "name": "stderr",
     "output_type": "stream",
     "text": [
      "[*********************100%***********************]  1 of 1 completed\n"
     ]
    }
   ],
   "source": [
    "mastercard = yf.download('MA',start = s , end = e)\n",
    "mastercard.columns = mastercard.columns.get_level_values(0)\n",
    "mastercard  = mastercard.reset_index()\n",
    "mastercard['Stock']= 'MASTERCARD'"
   ]
  },
  {
   "cell_type": "code",
   "execution_count": 14,
   "id": "e5084810-cb33-42e5-9315-32ab7bbee798",
   "metadata": {},
   "outputs": [
    {
     "name": "stderr",
     "output_type": "stream",
     "text": [
      "[*********************100%***********************]  1 of 1 completed\n"
     ]
    }
   ],
   "source": [
    "oracle = yf.download('ORCL',start = s , end = e)\n",
    "oracle.columns = oracle.columns.get_level_values(0)\n",
    "oracle  = oracle.reset_index()\n",
    "oracle['Stock']= 'ORACLE'"
   ]
  },
  {
   "cell_type": "code",
   "execution_count": 15,
   "id": "32a48e42-3797-41a1-98b0-29bc78c27445",
   "metadata": {},
   "outputs": [
    {
     "name": "stderr",
     "output_type": "stream",
     "text": [
      "[*********************100%***********************]  1 of 1 completed\n"
     ]
    }
   ],
   "source": [
    "eli = yf.download('LLY',start = s , end = e)\n",
    "eli.columns = eli.columns.get_level_values(0)\n",
    "eli  = eli.reset_index()\n",
    "eli['Stock']= 'ELI'"
   ]
  },
  {
   "cell_type": "code",
   "execution_count": 16,
   "id": "5cedd5f7-766e-411f-9254-b8eb42a6f4d6",
   "metadata": {},
   "outputs": [],
   "source": [
    "df = pd.concat([nvidia,microsoft,apple,oracle,mastercard,visa,tesla,meta,amazon,eli],axis = 0 )"
   ]
  },
  {
   "cell_type": "code",
   "execution_count": 17,
   "id": "241c4098-9e3d-4041-8d7d-516c9159ed7d",
   "metadata": {},
   "outputs": [],
   "source": [
    "df = df.drop('index',axis = 1)"
   ]
  },
  {
   "cell_type": "code",
   "execution_count": 19,
   "id": "5879bf08-9658-4813-92b3-b54008f14df9",
   "metadata": {},
   "outputs": [
    {
     "data": {
      "text/html": [
       "<div>\n",
       "<style scoped>\n",
       "    .dataframe tbody tr th:only-of-type {\n",
       "        vertical-align: middle;\n",
       "    }\n",
       "\n",
       "    .dataframe tbody tr th {\n",
       "        vertical-align: top;\n",
       "    }\n",
       "\n",
       "    .dataframe thead th {\n",
       "        text-align: right;\n",
       "    }\n",
       "</style>\n",
       "<table border=\"1\" class=\"dataframe\">\n",
       "  <thead>\n",
       "    <tr style=\"text-align: right;\">\n",
       "      <th>Price</th>\n",
       "      <th>Date</th>\n",
       "      <th>Close</th>\n",
       "      <th>High</th>\n",
       "      <th>Low</th>\n",
       "      <th>Open</th>\n",
       "      <th>Volume</th>\n",
       "      <th>Stock</th>\n",
       "    </tr>\n",
       "  </thead>\n",
       "  <tbody>\n",
       "    <tr>\n",
       "      <th>0</th>\n",
       "      <td>2023-01-03</td>\n",
       "      <td>14.303280</td>\n",
       "      <td>14.983723</td>\n",
       "      <td>14.084459</td>\n",
       "      <td>14.838841</td>\n",
       "      <td>401277000</td>\n",
       "      <td>NVIDIA</td>\n",
       "    </tr>\n",
       "    <tr>\n",
       "      <th>1</th>\n",
       "      <td>2023-01-04</td>\n",
       "      <td>14.736925</td>\n",
       "      <td>14.840840</td>\n",
       "      <td>14.229342</td>\n",
       "      <td>14.555075</td>\n",
       "      <td>431324000</td>\n",
       "      <td>NVIDIA</td>\n",
       "    </tr>\n",
       "    <tr>\n",
       "      <th>2</th>\n",
       "      <td>2023-01-05</td>\n",
       "      <td>14.253323</td>\n",
       "      <td>14.552078</td>\n",
       "      <td>14.136418</td>\n",
       "      <td>14.479137</td>\n",
       "      <td>389168000</td>\n",
       "      <td>NVIDIA</td>\n",
       "    </tr>\n",
       "    <tr>\n",
       "      <th>3</th>\n",
       "      <td>2023-01-06</td>\n",
       "      <td>14.846835</td>\n",
       "      <td>14.997712</td>\n",
       "      <td>14.022511</td>\n",
       "      <td>14.462150</td>\n",
       "      <td>405044000</td>\n",
       "      <td>NVIDIA</td>\n",
       "    </tr>\n",
       "    <tr>\n",
       "      <th>4</th>\n",
       "      <td>2023-01-09</td>\n",
       "      <td>15.615204</td>\n",
       "      <td>16.042853</td>\n",
       "      <td>15.128602</td>\n",
       "      <td>15.271486</td>\n",
       "      <td>504231000</td>\n",
       "      <td>NVIDIA</td>\n",
       "    </tr>\n",
       "    <tr>\n",
       "      <th>...</th>\n",
       "      <td>...</td>\n",
       "      <td>...</td>\n",
       "      <td>...</td>\n",
       "      <td>...</td>\n",
       "      <td>...</td>\n",
       "      <td>...</td>\n",
       "      <td>...</td>\n",
       "    </tr>\n",
       "    <tr>\n",
       "      <th>551</th>\n",
       "      <td>2025-03-17</td>\n",
       "      <td>824.760010</td>\n",
       "      <td>829.000000</td>\n",
       "      <td>814.570007</td>\n",
       "      <td>816.950012</td>\n",
       "      <td>2546600</td>\n",
       "      <td>ELI</td>\n",
       "    </tr>\n",
       "    <tr>\n",
       "      <th>552</th>\n",
       "      <td>2025-03-18</td>\n",
       "      <td>822.510010</td>\n",
       "      <td>836.289978</td>\n",
       "      <td>812.619995</td>\n",
       "      <td>833.419983</td>\n",
       "      <td>2354900</td>\n",
       "      <td>ELI</td>\n",
       "    </tr>\n",
       "    <tr>\n",
       "      <th>553</th>\n",
       "      <td>2025-03-19</td>\n",
       "      <td>837.010010</td>\n",
       "      <td>842.130005</td>\n",
       "      <td>819.500000</td>\n",
       "      <td>821.719971</td>\n",
       "      <td>3790500</td>\n",
       "      <td>ELI</td>\n",
       "    </tr>\n",
       "    <tr>\n",
       "      <th>554</th>\n",
       "      <td>2025-03-20</td>\n",
       "      <td>842.570007</td>\n",
       "      <td>854.390015</td>\n",
       "      <td>832.460022</td>\n",
       "      <td>839.030029</td>\n",
       "      <td>4402700</td>\n",
       "      <td>ELI</td>\n",
       "    </tr>\n",
       "    <tr>\n",
       "      <th>555</th>\n",
       "      <td>2025-03-21</td>\n",
       "      <td>837.570007</td>\n",
       "      <td>850.429993</td>\n",
       "      <td>825.320007</td>\n",
       "      <td>837.799988</td>\n",
       "      <td>5963800</td>\n",
       "      <td>ELI</td>\n",
       "    </tr>\n",
       "  </tbody>\n",
       "</table>\n",
       "<p>5560 rows × 7 columns</p>\n",
       "</div>"
      ],
      "text/plain": [
       "Price       Date       Close        High         Low        Open     Volume  \\\n",
       "0     2023-01-03   14.303280   14.983723   14.084459   14.838841  401277000   \n",
       "1     2023-01-04   14.736925   14.840840   14.229342   14.555075  431324000   \n",
       "2     2023-01-05   14.253323   14.552078   14.136418   14.479137  389168000   \n",
       "3     2023-01-06   14.846835   14.997712   14.022511   14.462150  405044000   \n",
       "4     2023-01-09   15.615204   16.042853   15.128602   15.271486  504231000   \n",
       "..           ...         ...         ...         ...         ...        ...   \n",
       "551   2025-03-17  824.760010  829.000000  814.570007  816.950012    2546600   \n",
       "552   2025-03-18  822.510010  836.289978  812.619995  833.419983    2354900   \n",
       "553   2025-03-19  837.010010  842.130005  819.500000  821.719971    3790500   \n",
       "554   2025-03-20  842.570007  854.390015  832.460022  839.030029    4402700   \n",
       "555   2025-03-21  837.570007  850.429993  825.320007  837.799988    5963800   \n",
       "\n",
       "Price   Stock  \n",
       "0      NVIDIA  \n",
       "1      NVIDIA  \n",
       "2      NVIDIA  \n",
       "3      NVIDIA  \n",
       "4      NVIDIA  \n",
       "..        ...  \n",
       "551       ELI  \n",
       "552       ELI  \n",
       "553       ELI  \n",
       "554       ELI  \n",
       "555       ELI  \n",
       "\n",
       "[5560 rows x 7 columns]"
      ]
     },
     "execution_count": 19,
     "metadata": {},
     "output_type": "execute_result"
    }
   ],
   "source": [
    "df"
   ]
  },
  {
   "cell_type": "code",
   "execution_count": 57,
   "id": "1f249e50-13c9-4b47-b822-9779831c6a60",
   "metadata": {},
   "outputs": [
    {
     "name": "stdout",
     "output_type": "stream",
     "text": [
      "['NVIDIA' 'MICROSOFT' 'APPLE' 'ORACLE' 'MASTERCARD' 'VISA' 'TESLA' 'META'\n",
      " 'AMAZON' 'ELI']\n"
     ]
    },
    {
     "name": "stdin",
     "output_type": "stream",
     "text": [
      "enter stock1 Name : MICROSOFT\n",
      "enter stock2 Name : ORACLE\n"
     ]
    },
    {
     "data": {
      "image/png": "[encoded data removed]",
      "text/plain": [
       "<Figure size 640x480 with 1 Axes>"
      ]
     },
     "metadata": {},
     "output_type": "display_data"
    }
   ],
   "source": [
    "print(df.Stock.unique())\n",
    "st1 = input (\"enter stock1 Name :\")\n",
    "st2 = input (\"enter stock2 Name :\")\n",
    "\n",
    "stk1 = df [df.Stock == st1]\n",
    "stk2 = df[df.Stock == st2]\n",
    "sb.lineplot(x = stk1.Date, y = stk1.Close)\n",
    "sb.lineplot(x = stk2.Date, y = stk2.Close)\n",
    "plt.xticks(rotation = 90)\n",
    "plt.show()"
   ]
  },
  {
   "cell_type": "code",
   "execution_count": null,
   "id": "8e137cbe-a977-430d-b79d-2036b6ad06f3",
   "metadata": {},
   "outputs": [],
   "source": []
  }
 ],
 "metadata": {
  "kernelspec": {
   "display_name": "Python [conda env:base] *",
   "language": "python",
   "name": "conda-base-py"
  },
  "language_info": {
   "codemirror_mode": {
    "name": "ipython",
    "version": 3
   },
   "file_extension": ".py",
   "mimetype": "text/x-python",
   "name": "python",
   "nbconvert_exporter": "python",
   "pygments_lexer": "ipython3",
   "version": "3.12.7"
  }
 },
 "nbformat": 4,
 "nbformat_minor": 5
}
